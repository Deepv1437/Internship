{
 "cells": [
  {
   "cell_type": "markdown",
   "id": "3d89ed46",
   "metadata": {},
   "source": [
    "1. Which of the following operators is used to calculate remainder in a division?  \n",
    "A) #   B) &\n",
    "C) %   D) $\n",
    "\n",
    "Answer- C(%)\n",
    "\n",
    "Explanation- In Python, Modulo operator (%) is used to find remainer in division operation."
   ]
  },
  {
   "cell_type": "markdown",
   "id": "d06d616e",
   "metadata": {},
   "source": [
    "2. In python 2//3 is equal to?\n",
    "\n",
    "A) 0.666  B) 0\n",
    "C) 1      D) 0.67\n",
    "\n",
    "Answer-B(0)\n",
    "\n",
    "Explanation- In python, // is Floor Division, sometimes also called Integer division which gives an interger value of quotient in answer not a float value."
   ]
  },
  {
   "cell_type": "markdown",
   "id": "cca452d1",
   "metadata": {},
   "source": [
    "3. In python, 6<<2 is equal to?\n",
    "\n",
    "A) 36 B) 10\n",
    "C) 24 D) 45\n",
    "\n",
    "Answer- C(24)\n",
    "\n",
    "#Explanationa-'<<' is python bitwise left shift operator."
   ]
  },
  {
   "cell_type": "markdown",
   "id": "6ed6d176",
   "metadata": {},
   "source": [
    "4. In python, 6&2 will give which of the following as output?\n",
    "\n",
    "A) 2 B) True\n",
    "C) False D) 0\n",
    "\n",
    "Answer- A(2)\n",
    "\n",
    "Explanation- '&' is a Bitwise AND operator."
   ]
  },
  {
   "cell_type": "markdown",
   "id": "d5f621ea",
   "metadata": {},
   "source": [
    "5. In python, 6|2 will give which of the following as output?\n",
    "\n",
    "A) 2 B) 4\n",
    "C) 0 D) 6\n",
    "\n",
    "Answer- D(6)\n",
    "\n",
    "Explanation- '|' is python bitwise OR operator."
   ]
  },
  {
   "cell_type": "markdown",
   "id": "88c4b091",
   "metadata": {},
   "source": [
    "6. What does the finally keyword denotes in python?\n",
    "\n",
    "A) It is used to mark the end of the code\n",
    "B) It encloses the lines of code which will be executed if any error occurs while executing the lines of code in \n",
    "the try block.\n",
    "C) the finally block will be executed no matter if the try block raises an error or not.\n",
    "D) None of the above\n",
    "\n",
    "Answer- C(the finally block will be executed no matter if the try block raises an error or not.)"
   ]
  },
  {
   "cell_type": "markdown",
   "id": "bb37895e",
   "metadata": {},
   "source": [
    "7. What does raise keyword is used for in python?\n",
    "\n",
    "A) It is used to raise an exception. B) It is used to define lambda function\n",
    "C) it's not a keyword in python. D) None of the above\n",
    "\n",
    "Answer- A (It is used to raise an exception)"
   ]
  },
  {
   "cell_type": "markdown",
   "id": "304455d6",
   "metadata": {},
   "source": [
    "8.Which of the following is a common use case of yield keyword in python?\n",
    "\n",
    "A) in defining an iterator B) while defining a lambda function\n",
    "C) in defining a generator D) in for loop\n",
    "\n",
    "Answer- C (in defining a generator)"
   ]
  },
  {
   "cell_type": "markdown",
   "id": "01681f2f",
   "metadata": {},
   "source": [
    "9. Which of the following are the valid variable names?\n",
    "\n",
    "A) _abc B) 1abc\n",
    "C) abc2 D) None of the above\n",
    "\n",
    "Answer- A & C"
   ]
  },
  {
   "cell_type": "markdown",
   "id": "2d7f0174",
   "metadata": {},
   "source": [
    "10. Which of the following are the keywords in python?\n",
    "\n",
    "A) yield B) raise\n",
    "C) look-in D) all of the above\n",
    "\n",
    "Answer- A & B"
   ]
  },
  {
   "cell_type": "markdown",
   "id": "517dd064",
   "metadata": {},
   "source": [
    "11. Python program to find factorial of a number."
   ]
  },
  {
   "cell_type": "code",
   "execution_count": 28,
   "id": "936e8e07",
   "metadata": {},
   "outputs": [
    {
     "name": "stdout",
     "output_type": "stream",
     "text": [
      "Enter a number:-1\n",
      "factorial does not exist for negative numbers\n"
     ]
    }
   ],
   "source": [
    "#Python program to find factorial of a number.\n",
    "\n",
    "#enter a number \n",
    "N=int(input(\"Enter a number:\"))\n",
    "factorial=1\n",
    "#checking if the number is negative, positive or zero\n",
    "if N<0:\n",
    "    print(\"factorial does not exist for negative numbers\")\n",
    "elif N==0:\n",
    "    print(\"The factorial of 0 is 1\")\n",
    "else:\n",
    "    for i in range(1,N+1):\n",
    "        factorial=factorial*i\n",
    "    print(\"The factorial of\",N,\"is\",factorial)"
   ]
  },
  {
   "cell_type": "markdown",
   "id": "596457f9",
   "metadata": {},
   "source": [
    "12.Python program to find whether a number is prime or composite."
   ]
  },
  {
   "cell_type": "code",
   "execution_count": 40,
   "id": "8cde95fc",
   "metadata": {},
   "outputs": [
    {
     "name": "stdout",
     "output_type": "stream",
     "text": [
      "Enter a number:5\n",
      "5 is a prime number\n"
     ]
    }
   ],
   "source": [
    "#python program to find whether a number is prime or composite.\n",
    "\n",
    "#to take input from the user\n",
    "Num=int(input(\"Enter a number:\"))\n",
    "#checking if the number is less than or equal to 1,it is not prime or composite.\n",
    "if Num<=1:\n",
    "    print(Num , \"is not a prime or composite number\")\n",
    "else:\n",
    "    for j in range(2,Num):\n",
    "        if (Num%j)==0:\n",
    "            print(Num,\"is a composite number\")\n",
    "            break\n",
    "        else:\n",
    "            print(Num,\"is a prime number\")\n",
    "            break\n",
    "            "
   ]
  },
  {
   "cell_type": "markdown",
   "id": "06d781bc",
   "metadata": {},
   "source": [
    "13.Python program to check whether a given string is palindrome or not."
   ]
  },
  {
   "cell_type": "code",
   "execution_count": 45,
   "id": "6896cd7e",
   "metadata": {},
   "outputs": [
    {
     "name": "stdout",
     "output_type": "stream",
     "text": [
      "Enter a string:madam\n",
      "The string is palindrome\n"
     ]
    }
   ],
   "source": [
    "#python program to check whether a given string is palindrome or not.\n",
    "\n",
    "#to take string input from user\n",
    "STR=input((\"Enter a string:\"))\n",
    "if (STR==STR[::-1]):\n",
    "    print(\"The string is palindrome\")\n",
    "else:\n",
    "    print(\"The string is not palindrome\")"
   ]
  },
  {
   "cell_type": "markdown",
   "id": "ccc4fc85",
   "metadata": {},
   "source": [
    "14.Python program to get the third side of right-angled triangle from two given sides.\n"
   ]
  },
  {
   "cell_type": "code",
   "execution_count": 47,
   "id": "8c31b732",
   "metadata": {},
   "outputs": [
    {
     "name": "stdout",
     "output_type": "stream",
     "text": [
      "The third side of a right angled triangle is 10\n"
     ]
    }
   ],
   "source": [
    "#Python program to get the third side of right-angled triangle from two given sides.\n",
    "\n",
    "#two sides of right angled traingle\n",
    "side1=8\n",
    "side2=6\n",
    "#third side would be side3\n",
    "side3=((side1**2)+(side2**2))**(1/2)\n",
    "print(\"The third side of a right angled triangle is\",int(side3))\n"
   ]
  },
  {
   "cell_type": "markdown",
   "id": "256f962b",
   "metadata": {},
   "source": [
    "15.Python program to print the frequency of each of the characters present in a given string"
   ]
  },
  {
   "cell_type": "code",
   "execution_count": 63,
   "id": "2f750544",
   "metadata": {},
   "outputs": [
    {
     "name": "stdout",
     "output_type": "stream",
     "text": [
      "Enter the string:greek\n",
      "count of all characters{'g': 1, 'r': 1, 'e': 2, 'k': 1}\n"
     ]
    }
   ],
   "source": [
    "#python program to print the frequency of each of the characters present in a given string\n",
    "\n",
    "#initializing string\n",
    "string=input(\"Enter the string:\")\n",
    "frequency={}\n",
    "for m in string:\n",
    "    if m in frequency:\n",
    "        frequency[m]+=1\n",
    "    else:\n",
    "        frequency[m]=1\n",
    "print(\"count of all characters\"+str(frequency))\n",
    "    \n"
   ]
  },
  {
   "cell_type": "code",
   "execution_count": null,
   "id": "e56e45ef",
   "metadata": {},
   "outputs": [],
   "source": []
  }
 ],
 "metadata": {
  "kernelspec": {
   "display_name": "Python 3 (ipykernel)",
   "language": "python",
   "name": "python3"
  },
  "language_info": {
   "codemirror_mode": {
    "name": "ipython",
    "version": 3
   },
   "file_extension": ".py",
   "mimetype": "text/x-python",
   "name": "python",
   "nbconvert_exporter": "python",
   "pygments_lexer": "ipython3",
   "version": "3.9.7"
  }
 },
 "nbformat": 4,
 "nbformat_minor": 5
}
